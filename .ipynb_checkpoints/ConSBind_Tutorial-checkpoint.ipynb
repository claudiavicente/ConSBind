{
 "cells": [
  {
   "cell_type": "markdown",
   "metadata": {},
   "source": [
    "# ConSBind Tutorial: Programmatic Usage\n",
    "\n",
    "This notebook demonstrates how to use the ConSBind package programmatically for predicting protein binding sites.\n",
    "\n",
    "## Overview\n",
    "\n",
    "ConSBind (Consensus Structural Binding site predictor) identifies potential binding sites in protein structures using a consensus of geometric and energy-based approaches. This tutorial shows how to:\n",
    "\n",
    "1. Load protein structures\n",
    "2. Run binding site predictions\n",
    "3. Access and analyze prediction results\n",
    "4. Visualize binding sites\n",
    "\n",
    "Let's get started!"
   ]
  },
  {
   "cell_type": "markdown",
   "metadata": {},
   "source": [
    "## Setup\n",
    "\n",
    "First, let's import the necessary modules and set up logging. If you're running this notebook in a different directory than the ConSBind package, adjust the path accordingly."
   ]
  },
  {
   "cell_type": "code",
   "execution_count": 41,
   "metadata": {},
   "outputs": [],
   "source": [
    "import os\n",
    "import sys\n",
    "import logging\n",
    "import numpy as np\n",
    "import matplotlib.pyplot as plt\n",
    "from IPython.display import Image, display\n",
    "\n",
    "# Add parent directory to path if running from examples directory\n",
    "#module_path = os.path.abspath(os.path.join('..'))\n",
    "#if module_path not in sys.path:\n",
    "#    sys.path.append(module_path)\n",
    "\n",
    "# Import ConSBind modules\n",
    "from ConSBind.core.structure import ProteinStructure\n",
    "from ConSBind.core.finder import ConsensusPocketFinder\n",
    "from ConSBind.core.scoring import adjust_scores_by_function\n",
    "from ConSBind.output.output import save_predictions\n",
    "\n",
    "# Configure logging\n",
    "logging.basicConfig(level=logging.INFO, format='%(asctime)s - %(name)s - %(levelname)s - %(message)s')\n",
    "logger = logging.getLogger('ConSBind-Tutorial')"
   ]
  },
  {
   "cell_type": "markdown",
   "metadata": {},
   "source": [
    "## Load Protein Structure\n",
    "\n",
    "First, we'll load a protein structure from a PDB file. ConSBind requires a valid PDB file as input. For this tutorial, we'll use a sample PDB file from the data directory.\n",
    "\n",
    "Let's define the path to our example PDB file:"
   ]
  },
  {
   "cell_type": "code",
   "execution_count": 22,
   "metadata": {},
   "outputs": [],
   "source": [
    "\n",
    "import shutil\n",
    "\n",
    "def convert_ent_to_pdb(ent_file_path):\n",
    "    \"\"\"\n",
    "    Convert a PDB .ent file to .pdb format by copying and renaming the file.\n",
    "    \n",
    "    Args:\n",
    "        ent_file_path (str): Path to the input .ent file\n",
    "    \n",
    "    Returns:\n",
    "        str: Path to the converted .pdb file\n",
    "    \"\"\"\n",
    "    # Check if the input file exists\n",
    "    if not os.path.exists(ent_file_path):\n",
    "        raise FileNotFoundError(f\"Input file not found: {ent_file_path}\")\n",
    "    \n",
    "    # Determine the output file path\n",
    "    file_dir = os.path.dirname(ent_file_path)\n",
    "    file_name = os.path.splitext(os.path.basename(ent_file_path))[0]\n",
    "    pdb_file_path = os.path.join(file_dir, f\"{file_name}.pdb\")\n",
    "    \n",
    "    try:\n",
    "        # Copy the file and rename the extension\n",
    "        shutil.copy2(ent_file_path, pdb_file_path)\n",
    "        print(f\"Successfully converted {ent_file_path} to {pdb_file_path}\")\n",
    "        return pdb_file_path\n",
    "    except Exception as e:\n",
    "        print(f\"Error converting file: {e}\")\n",
    "        raise"
   ]
  },
  {
   "cell_type": "code",
   "execution_count": null,
   "metadata": {},
   "outputs": [
    {
     "name": "stdout",
     "output_type": "stream",
     "text": [
      "Error: PDB file data/pdb4dfr.pdb not found.\n",
      "Downloading PDB structure '4dfr'...\n"
     ]
    }
   ],
   "source": [
    "# Define the path to the PDB file\n",
    "# Replace with your own PDB file or use a sample one\n",
    "pdb_file = \"data/pdb4dfr.pdb\"\n",
    "\n",
    "# Check if the file exists\n",
    "if not os.path.exists(pdb_file):\n",
    "    print(f\"Error: PDB file {pdb_file} not found.\")\n",
    "    # You can download a sample PDB file using BioPython\n",
    "    import Bio.PDB.PDBList\n",
    "    pdblist = Bio.PDB.PDBList()\n",
    "    pdb_id = \"4dfr\"  # Dihydrofolate reductase\n",
    "    pdblist.retrieve_pdb_file(pdb_id, file_format=\"pdb\", pdir=\"data\")\n",
    "    pdb_file = \"data/pdb4dfr.pdb\"\n",
    "    print(f\"Downloaded PDB file to data/pdb{pdb_id}.ent\")\n",
    "\n",
    "# Load the protein structure\n",
    "try:\n",
    "    print(f\"Loading protein structure from {pdb_file}...\")\n",
    "    output_pdb_file = convert_ent_to_pdb(input_ent_file)\n",
    "    protein = ProteinStructure(output_pdb_file)\n",
    "    print(\"Protein structure loaded successfully!\")\n",
    "except Exception as e:\n",
    "    print(f\"Error loading protein structure: {str(e)}\")"
   ]
  },
  {
   "cell_type": "code",
   "execution_count": 30,
   "metadata": {},
   "outputs": [
    {
     "name": "stdout",
     "output_type": "stream",
     "text": [
      "Loading protein structure from data/4dfr.pdb...\n",
      "Protein structure loaded successfully!\n"
     ]
    }
   ],
   "source": [
    "# Define the path to the PDB file\n",
    "# Replace with your own PDB file or use a sample one\n",
    "pdb_file = \"data/4dfr.pdb\"\n",
    "\n",
    "# Load the protein structure\n",
    "try:\n",
    "    print(f\"Loading protein structure from {pdb_file}...\")\n",
    "    protein = ProteinStructure(pdb_file)\n",
    "    print(\"Protein structure loaded successfully!\")\n",
    "except Exception as e:\n",
    "    print(f\"Error loading protein structure: {str(e)}\")"
   ]
  },
  {
   "cell_type": "markdown",
   "metadata": {},
   "source": [
    "## Creating a Binding Site Prediction Function\n",
    "\n",
    "Next, let's define a function to predict binding sites, similar to the one in `basic_prediction.py` but adapted for our notebook:"
   ]
  },
  {
   "cell_type": "code",
   "execution_count": 31,
   "metadata": {},
   "outputs": [],
   "source": [
    "def predict_binding_sites(protein, output_prefix=None, protein_type=\"unknown\"):\n",
    "    \"\"\"\n",
    "    Predict binding sites for a protein structure\n",
    "    \n",
    "    Parameters:\n",
    "    -----------\n",
    "    protein : ProteinStructure\n",
    "        Protein structure object\n",
    "    output_prefix : str, optional\n",
    "        Prefix for output files. If None, uses the PDB ID\n",
    "    protein_type : str, optional\n",
    "        Type of protein: 'enzyme', 'transporter', 'receptor', or 'unknown'\n",
    "        \n",
    "    Returns:\n",
    "    --------\n",
    "    tuple\n",
    "        (consensus_pockets, output_files) - predicted binding sites and output files\n",
    "    \"\"\"\n",
    "    # Set default output prefix\n",
    "    if output_prefix is None:\n",
    "        output_prefix = protein.pdb_id\n",
    "    \n",
    "    # Create consensus pocket finder\n",
    "    pocket_finder = ConsensusPocketFinder()\n",
    "    \n",
    "    print(\"Step 1: Finding pockets using geometric approach...\")\n",
    "    geometric_pockets = pocket_finder.find_pockets_geometric(\n",
    "        protein, \n",
    "        probe_radius=1.4,\n",
    "        min_size=5\n",
    "    )\n",
    "    print(f\"Found {len(geometric_pockets)} geometric pockets\")\n",
    "    \n",
    "    print(\"\\nStep 2: Finding pockets using energy-based approach...\")\n",
    "    energy_pockets = pocket_finder.find_pockets_energy(\n",
    "        protein,\n",
    "        grid_spacing=1.0\n",
    "    )\n",
    "    print(f\"Found {len(energy_pockets)} energy-based pockets\")\n",
    "    \n",
    "    print(\"\\nStep 3: Combining results from different methods...\")\n",
    "    consensus_pockets = pocket_finder.combine_pockets(\n",
    "        protein, \n",
    "        geometric_pockets, \n",
    "        energy_pockets\n",
    "    )\n",
    "    print(f\"Combined into {len(consensus_pockets)} consensus pockets\")\n",
    "\n",
    "    print(\"\\nStep 4: Adjusting scores based on protein function...\")\n",
    "    consensus_pockets = adjust_scores_by_function(consensus_pockets, protein_type)\n",
    "    \n",
    "    # Ensure every pocket has all required scores\n",
    "    for pocket in consensus_pockets:\n",
    "        if 'final_score' not in pocket:\n",
    "            pocket['final_score'] = pocket['consensus_score'] * 3.0 + pocket.get('score', 0) * 0.5\n",
    "            \n",
    "        # Ensure methods list exists\n",
    "        if 'methods' not in pocket:\n",
    "            pocket['methods'] = [pocket.get('method', 'unknown')]\n",
    "\n",
    "    # Save predictions to files\n",
    "    output_files = None\n",
    "    if consensus_pockets:\n",
    "        print(\"\\nStep 6: Saving predictions...\")\n",
    "        output_files = save_predictions(consensus_pockets, protein, output_prefix)\n",
    "        print(f\"Predictions saved with prefix: {output_prefix}\")\n",
    "    else:\n",
    "        print(\"\\nWarning: No binding sites found\")\n",
    "    \n",
    "    return filtered_pockets, output_files"
   ]
  },
  {
   "cell_type": "markdown",
   "metadata": {},
   "source": [
    "## Run the Prediction\n",
    "\n",
    "Now let's run the binding site prediction on our protein structure:"
   ]
  },
  {
   "cell_type": "code",
   "execution_count": 42,
   "metadata": {},
   "outputs": [
    {
     "name": "stderr",
     "output_type": "stream",
     "text": [
      "2025-03-24 19:08:44,412 - ConSBind.core.structure - INFO - Created grid with dimensions: 67x72x93\n"
     ]
    },
    {
     "name": "stdout",
     "output_type": "stream",
     "text": [
      "Step 1: Finding pockets using geometric approach...\n"
     ]
    },
    {
     "name": "stderr",
     "output_type": "stream",
     "text": [
      "2025-03-24 19:08:45,838 - ConSBind.core.structure - INFO - Found 758 potential cavity points\n"
     ]
    },
    {
     "name": "stdout",
     "output_type": "stream",
     "text": [
      "Error during prediction: name 'pdist' is not defined\n"
     ]
    }
   ],
   "source": [
    "# Run the prediction\n",
    "# You can specify protein_type as \"enzyme\", \"transporter\", \"receptor\", or \"unknown\"\n",
    "output_prefix = \"notebook_results\"\n",
    "\n",
    "try:\n",
    "    pockets, output_files = predict_binding_sites(protein, output_prefix=output_prefix, protein_type=\"enzyme\")\n",
    "    print(f\"\\nPrediction completed successfully with {len(pockets)} binding sites identified.\")\n",
    "except Exception as e:\n",
    "    print(f\"Error during prediction: {str(e)}\")"
   ]
  },
  {
   "cell_type": "markdown",
   "metadata": {},
   "source": [
    "## Analyze the Results\n",
    "\n",
    "Now let's analyze the prediction results. Let's create a function to display the binding site details:"
   ]
  },
  {
   "cell_type": "code",
   "execution_count": null,
   "metadata": {},
   "outputs": [],
   "source": [
    "def display_binding_sites(pockets, protein):\n",
    "    \"\"\"\n",
    "    Display detailed information about predicted binding sites\n",
    "    \"\"\"\n",
    "    if not pockets:\n",
    "        print(\"No binding sites predicted.\")\n",
    "        return\n",
    "    \n",
    "    print(f\"\\n{'=' * 60}\")\n",
    "    print(f\"{'PREDICTED BINDING SITES':^60}\")\n",
    "    print(f\"{'=' * 60}\\n\")\n",
    "    \n",
    "    # Create a table with key metrics\n",
    "    headers = [\"Site\", \"Score\", \"Consensus\", \"Druggability\", \"Size\", \"Methods\"]\n",
    "    rows = []\n",
    "    \n",
    "    for i, pocket in enumerate(pockets, 1):\n",
    "        # Get basic metrics\n",
    "        score = pocket['final_score']\n",
    "        consensus = pocket['consensus_score']\n",
    "        druggability = pocket.get('druggability', '-')\n",
    "        size = pocket['size']\n",
    "        methods = \", \".join(pocket.get('methods', [pocket.get('method', 'unknown')]))\n",
    "        \n",
    "        # Add row\n",
    "        rows.append([i, f\"{score:.2f}\", f\"{consensus:.2f}\", \n",
    "                     f\"{druggability:.2f}\" if isinstance(druggability, float) else druggability,\n",
    "                     size, methods])\n",
    "    \n",
    "    # Print table\n",
    "    col_widths = [max(len(str(row[i])) for row in rows + [headers]) for i in range(len(headers))]\n",
    "    \n",
    "    # Print header\n",
    "    header_str = \" | \".join(h.ljust(col_widths[i]) for i, h in enumerate(headers))\n",
    "    print(header_str)\n",
    "    print(\"-\" * len(header_str))\n",
    "    \n",
    "    # Print rows\n",
    "    for row in rows:\n",
    "        print(\" | \".join(str(cell).ljust(col_widths[i]) for i, cell in enumerate(row)))\n",
    "    \n",
    "    print(\"\\n\")\n",
    "    \n",
    "    # Detailed information for each site\n",
    "    for i, pocket in enumerate(pockets, 1):\n",
    "        print(f\"\\n{'-' * 60}\")\n",
    "        print(f\"Binding Site {i} Details:\")\n",
    "        print(f\"{'-' * 60}\\n\")\n",
    "        \n",
    "        print(f\"Binding Potential Score: {pocket['final_score']:.2f}\")\n",
    "        print(f\"Consensus Score: {pocket['consensus_score']:.2f}\")\n",
    "        \n",
    "        if 'druggability' in pocket:\n",
    "            print(f\"Druggability: {pocket['druggability']:.2f}\")\n",
    "        if 'knowledge_score' in pocket:\n",
    "            print(f\"Knowledge-based Score: {pocket['knowledge_score']:.2f}\")\n",
    "        \n",
    "        print(f\"Size: {pocket['size']}\")\n",
    "        print(f\"Center: [{pocket['center'][0]:.2f}, {pocket['center'][1]:.2f}, {pocket['center'][2]:.2f}]\")\n",
    "        \n",
    "        detection_methods = pocket.get('methods', [pocket.get('method', 'unknown')])\n",
    "        print(f\"Detection Methods: {', '.join(detection_methods)}\")\n",
    "        \n",
    "        # Print residues involved in the binding site\n",
    "        residues = protein.get_pocket_residues(pocket)\n",
    "        if residues:\n",
    "            print(\"\\nBinding Site Residues:\")\n",
    "            for chain, resid, resname in residues:\n",
    "                print(f\"  {chain}:{resname}{resid}\")\n",
    "    \n",
    "    return rows  # Return the table data for potential further analysis"
   ]
  },
  {
   "cell_type": "code",
   "execution_count": null,
   "metadata": {},
   "outputs": [],
   "source": [
    "# Display the binding site details\n",
    "site_data = display_binding_sites(pockets, protein)"
   ]
  },
  {
   "cell_type": "markdown",
   "metadata": {},
   "source": [
    "## Visualizing the Results\n",
    "\n",
    "Let's create some simple visualizations for the binding site predictions. First, let's create a bar chart comparing the scores of different binding sites:"
   ]
  },
  {
   "cell_type": "code",
   "execution_count": null,
   "metadata": {},
   "outputs": [],
   "source": [
    "def plot_binding_site_scores(pockets):\n",
    "    \"\"\"\n",
    "    Plot binding site scores as a bar chart\n",
    "    \"\"\"\n",
    "    if not pockets:\n",
    "        print(\"No binding sites to plot.\")\n",
    "        return\n",
    "    \n",
    "    # Prepare data\n",
    "    sites = [f\"Site {i+1}\" for i in range(len(pockets))]\n",
    "    final_scores = [pocket['final_score'] for pocket in pockets]\n",
    "    consensus_scores = [pocket['consensus_score'] for pocket in pockets]\n",
    "    druggability_scores = [pocket.get('druggability', 0) for pocket in pockets]\n",
    "    knowledge_scores = [pocket.get('knowledge_score', 0) for pocket in pockets]\n",
    "    \n",
    "    # Set up the figure\n",
    "    fig, ax = plt.subplots(figsize=(12, 6))\n",
    "    \n",
    "    # Set width of bars\n",
    "    bar_width = 0.2\n",
    "    index = np.arange(len(sites))\n",
    "    \n",
    "    # Create bars\n",
    "    final = ax.bar(index, final_scores, bar_width, label='Binding Potential')\n",
    "    consensus = ax.bar(index + bar_width, consensus_scores, bar_width, label='Consensus')\n",
    "    druggability = ax.bar(index + 2*bar_width, druggability_scores, bar_width, label='Druggability')\n",
    "    knowledge = ax.bar(index + 3*bar_width, knowledge_scores, bar_width, label='Knowledge-based')\n",
    "    \n",
    "    # Add labels and legend\n",
    "    ax.set_xlabel('Binding Sites')\n",
    "    ax.set_ylabel('Scores')\n",
    "    ax.set_title('Binding Site Scores Comparison')\n",
    "    ax.set_xticks(index + 1.5*bar_width)\n",
    "    ax.set_xticklabels(sites)\n",
    "    ax.legend()\n",
    "    \n",
    "    # Add a grid for better readability\n",
    "    ax.grid(axis='y', linestyle='--', alpha=0.7)\n",
    "    \n",
    "    # Add values on top of bars\n",
    "    def add_labels(bars):\n",
    "        for bar in bars:\n",
    "            height = bar.get_height()\n",
    "            if height > 0:  # Only add labels for non-zero values\n",
    "                ax.text(bar.get_x() + bar.get_width()/2., height + 0.1,\n",
    "                        f'{height:.1f}', ha='center', va='bottom', rotation=0)\n",
    "    \n",
    "    add_labels(final)\n",
    "    add_labels(consensus)\n",
    "    add_labels(druggability)\n",
    "    add_labels(knowledge)\n",
    "    \n",
    "    plt.tight_layout()\n",
    "    return fig"
   ]
  },
  {
   "cell_type": "code",
   "execution_count": null,
   "metadata": {},
   "outputs": [],
   "source": [
    "# Plot the binding site scores\n",
    "if pockets:\n",
    "    fig = plot_binding_site_scores(pockets)\n",
    "    plt.show()"
   ]
  },
  {
   "cell_type": "markdown",
   "metadata": {},
   "source": [
    "## Visualizing in PyMOL\n",
    "\n",
    "ConSBind generates a PyMOL script for visualizing the binding sites. If PyMOL is installed, you can run this script directly from the notebook."
   ]
  },
  {
   "cell_type": "code",
   "execution_count": null,
   "metadata": {},
   "outputs": [],
   "source": [
    "# Check if output files were created\n",
    "if output_files:\n",
    "    output_file, output_pdb, pymol_script = output_files\n",
    "    print(f\"Text summary: {output_file}\")\n",
    "    print(f\"Modified PDB: {output_pdb}\")\n",
    "    print(f\"PyMOL script: {pymol_script}\")\n",
    "    \n",
    "    # Display the PyMOL command to visualize the results\n",
    "    print(\"\\nTo visualize the results, run the following command in a terminal:\")\n",
    "    print(f\"pymol {pymol_script}\")\n",
    "else:\n",
    "    print(\"No output files were created.\")"
   ]
  },
  {
   "cell_type": "markdown",
   "metadata": {},
   "source": [
    "## Using ConSBind in Your Own Workflows\n",
    "\n",
    "Now that you've seen how to use ConSBind programmatically, you can incorporate it into your own workflows. Here are some ideas:\n",
    "\n",
    "1. Process multiple PDB files in batch\n",
    "2. Compare binding site predictions with experimental data\n",
    "3. Use binding site predictions as input for docking simulations\n",
    "4. Develop custom visualization or analysis of binding sites\n",
    "\n",
    "Here's a simple example of processing multiple PDB files:"
   ]
  },
  {
   "cell_type": "code",
   "execution_count": null,
   "metadata": {},
   "outputs": [],
   "source": [
    "def batch_process_pdb_files(pdb_directory, output_directory):\n",
    "    \"\"\"\n",
    "    Process multiple PDB files in a directory\n",
    "    \"\"\"\n",
    "    # Create output directory if it doesn't exist\n",
    "    os.makedirs(output_directory, exist_ok=True)\n",
    "    \n",
    "    # Get all PDB files in the directory\n",
    "    pdb_files = [f for f in os.listdir(pdb_directory) if f.endswith('.pdb')]\n",
    "    \n",
    "    print(f\"Found {len(pdb_files)} PDB files in {pdb_directory}\")\n",
    "    \n",
    "    results = {}\n",
    "    \n",
    "    for pdb_file in pdb_files:\n",
    "        pdb_id = os.path.splitext(pdb_file)[0]\n",
    "        pdb_path = os.path.join(pdb_directory, pdb_file)\n",
    "        output_prefix = os.path.join(output_directory, pdb_id)\n",
    "        \n",
    "        print(f\"\\nProcessing {pdb_id}...\")\n",
    "        \n",
    "        try:\n",
    "            # Load protein structure\n",
    "            protein = ProteinStructure(pdb_path)\n",
    "            \n",
    "            # Predict binding sites\n",
    "            pockets, _ = predict_binding_sites(protein, output_prefix=output_prefix)\n",
    "            \n",
    "            # Store results\n",
    "            results[pdb_id] = pockets\n",
    "            \n",
    "            print(f\"Processed {pdb_id}: Found {len(pockets)} binding sites\")\n",
    "            \n",
    "        except Exception as e:\n",
    "            print(f\"Error processing {pdb_id}: {str(e)}\")\n",
    "            results[pdb_id] = None\n",
    "    \n",
    "    return results\n",
    "\n",
    "# Example usage (commented out)\n",
    "# batch_results = batch_process_pdb_files('../data', '../results')"
   ]
  },
  {
   "cell_type": "markdown",
   "metadata": {},
   "source": [
    "## Conclusion\n",
    "\n",
    "In this tutorial, you've learned how to use ConSBind programmatically to predict binding sites in protein structures. You've seen how to:\n",
    "\n",
    "1. Load protein structures\n",
    "2. Run the binding site prediction workflow\n",
    "3. Access and analyze the prediction results\n",
    "4. Create visualizations of the binding sites\n",
    "5. Set up batch processing for multiple proteins\n",
    "\n",
    "This programmatic approach allows you to integrate ConSBind into larger workflows and custom analyses, making it a versatile tool for structural bioinformatics."
   ]
  }
 ],
 "metadata": {
  "kernelspec": {
   "display_name": "Python 3 (ipykernel)",
   "language": "python",
   "name": "python3"
  },
  "language_info": {
   "codemirror_mode": {
    "name": "ipython",
    "version": 3
   },
   "file_extension": ".py",
   "mimetype": "text/x-python",
   "name": "python",
   "nbconvert_exporter": "python",
   "pygments_lexer": "ipython3",
   "version": "3.12.2"
  }
 },
 "nbformat": 4,
 "nbformat_minor": 4
}
