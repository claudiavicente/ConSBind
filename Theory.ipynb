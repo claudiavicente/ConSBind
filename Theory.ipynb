{
 "cells": [
  {
   "cell_type": "markdown",
   "id": "Tmegh-lBtvqv",
   "metadata": {
    "id": "Tmegh-lBtvqv"
   },
   "source": [
    "<font><h1>**Protein Binding Site Prediction: Theoretical Foundations**</h1></font>\n",
    "***\n",
    "This notebook explains the theoretical foundations behind our protein binding site prediction software. The approach combines geometric analysis, energy calculations, and empirical knowledge to identify potential binding sites in protein structures<sup>1,2</sup>."
   ]
  },
  {
   "cell_type": "markdown",
   "id": "NX1WFO9q8Nle",
   "metadata": {
    "id": "NX1WFO9q8Nle"
   },
   "source": [
    "- [Introduction](#intro)\n",
    "- [Detection Approaches](#detection)\n",
    "  - [1. Geometric-Based Detection](#geometric)\n",
    "  - [2. Energy-Based Detection](#energy)\n",
    "  - [3. Knowledge-Based Evaluation](#knowledge)\n",
    "- [Consensus Approach](#consensus)\n",
    "- [Druggability Assessment](#druggability)\n",
    "- [Scoring System](#scoring)\n",
    "- [Implementation Details](#implementation)\n",
    "- [Future Improvements](#improvements)\n",
    "- [References](#references)\n",
    "\n"
   ]
  },
  {
   "cell_type": "markdown",
   "id": "-JqSL5MKAOLq",
   "metadata": {
    "id": "-JqSL5MKAOLq"
   },
   "source": [
    "## **Detection Approaches**\n",
    "\n",
    "Our software integrates three complementary approaches:"
   ]
  },
  {
   "cell_type": "markdown",
   "id": "-Or0EmdO_qDC",
   "metadata": {
    "id": "-Or0EmdO_qDC"
   },
   "source": [
    "\n",
    "\n",
    "### **1. Geometric-Based Detection**\n",
    "\n",
    "> 💡 **Key Concept:** Based on the physical shape of proteins and identifies concave regions or cavities that could accomodate ligands.\n",
    "\n",
    "**1.1 Cavity Detection**\n",
    "\n",
    "Proteins often have cavities, clefts, or pockets on their surface where ligands can bind<sup>2,3</sup>. The algorithm identifies these by:\n",
    "\n",
    "- Creating a 3D grid around the protein.\n",
    "- Identifying points that are inside the protein but not too close to any atom<sup>2</sup>:\n",
    "  $$ \\text{probe_radius} < \\text{distance} < 4.0\\text{Å} $$\n",
    "- Using ray-casting to determine if a point is enclosed by protein atoms<sup>3</sup>.\n",
    "- Clustering identified points to find distinct cavities<sup>2</sup>.\n",
    "\n",
    "When no cavities are found with default parameters (probe radius of 1.4Å and minimum size of 5), the algorithm automatically tries more aggressive parameters (probe radius of 1.8Å and minimum size of 3) to identify larger or shallower cavities that might still be functionally relevant<sup>2</sup>.\n",
    "\n",
    "**1.2 Surface Analysis**\n",
    "\n",
    "When cavities detection methods fail to identify binding sites, the algorithm switches to analyzing the protein surface by:\n",
    "- Using DSSP (define secondary structure of proteins) to calculate accessible surface area<sup>4</sup>.\n",
    "- Identifying surface atoms through a relative accessibility threshold of 0.15.\n",
    "- DBSCAN clustering (with ```eps=3.5, min_samples=5```), a distance-based approach,  is used when DSSP fails to group surface atoms into potential binding regions<sup>5</sup>.\n",
    "- Testing each cluster for concavity using a ray-casting method<sup>3</sup>.\n",
    "\n",
    "**1.3 Concavity Assessment**\n",
    "\n",
    "For each potential surface pocket, the algorithm performs concavity testing by:\n",
    "- Generating 20 random ray directions from the center point<sup>2, 3</sup>.\n",
    "- Casting rays in these directions and measuring distance to protein atoms<sup>3</sup>.\n",
    "- Classifying a region as concave if at least 70% of rays hit the protein within a 10Å distance<sup>2</sup>.\n",
    "\n",
    "This ray-casting approach differentiates between convex surface protrusions and concave binding pockets<sup>2, 6</sup>.\n"
   ]
  },
  {
   "cell_type": "markdown",
   "id": "dQGtxz9wECB_",
   "metadata": {
    "id": "dQGtxz9wECB_"
   },
   "source": [
    "### **2. Energy-Based Detection**\n",
    "\n",
    "> 💡 **Key Concept:** Evaluating physicochemical properties to find energetically favorable binding regions.\n",
    "\n",
    "**2.1 Grid Generation and Sampling**\n",
    "\n",
    "The energy-based approach analyzes the protein's physicochemical landscape by<sup>7</sup>:\n",
    "- Creating a 3D grid extending 5Å beyond the protein surface.\n",
    "- Using grid spacing of 1.0Å for computational efficiency.\n",
    "- Implementing sparse sampling for performance optimization.\n",
    "- Filtering points based on distance to protein surface (between 1.0-5.0Å).\n",
    "\n",
    "**2.2 Energy Scoring**\n",
    "\n",
    "Energy-based detection considers<sup>1, 8</sup>:\n",
    "- **Hydrophobicity:** Binding sites often have a hydrophobic core providing favorable interactions with ligands. The code uses the Kyte & Doolittle hydrophobicity scale to assess this property.\n",
    "- **Electrostatics:** The distribution of charged and polar residues influences ligand binding. The algorithm assigns charges to residues and calculates distance-weighted charge distributions.\n",
    "- **Energy Scoring:** Combines hydrophobicity and electrostatic properties in a weighted formula to identify regions with favorable energy profiles for binding<sup>9, 10</sup>:\n",
    "$$ \\text{energy_score} = \\text{hydrophobicity} * 2.0 + abs(\\text{electrostatics}) * 0.5 $$\n",
    "- Points with energy scores above 3.0 are considered potential binding sites.\n",
    "\n",
    "**2.3 Clustering of Energy Hotspots**\n",
    "\n",
    "Energy-favorable points are clustered to identify distinct binding sites using<sup>11</sup>:\n",
    "- Hierarchical clustering with average linkage.\n",
    "- Distance threshold of 3.5Å to define clusters.\n",
    "- Minimum cluster size of 3 points to filter out noise.\n",
    "- Calculation of cluster centers and average scores for ranking."
   ]
  },
  {
   "cell_type": "markdown",
   "id": "FvpUhF22GZmt",
   "metadata": {
    "id": "FvpUhF22GZmt"
   },
   "source": [
    "### **3. Knowledge-Based Evaluation**\n",
    "\n",
    "> 💡 **Key Concept:** Applies empirical observations about the composition of known binding sites.\n",
    "\n",
    "This approach incorporates:\n",
    "\n",
    "**3.1 Residue Composition Analysis:**\n",
    "- Binding sites typically have a balanced mix of hydrophobic and polar/charged residues<sup>12</sup>.\n",
    "- The algorithm scores pockets higher (+1.0) when they contain both hydrophobic and polar/charged amino acids.\n",
    "\n",
    "**3.2 Catalytic Patterns**\n",
    "- Specific residue pairs that are common in enzyme active sites are identified<sup>13</sup>:\n",
    "  - His-Asp: Common in many hydrolases.\n",
    "  - Ser-His: Found in serine proteases.\n",
    "  - Cys-His: Present in cysteine proteases.\n",
    "  - Lys-Asp: Foun in many transferases.\n",
    "  - Arg-Asp/Arg-Glu: Common in substrate binding sites.\n",
    "- The presence of these pairs increases the pocket's score by 0.5 points per pair.\n",
    "\n",
    "**3.3 Binding Site Specialization**\n",
    "\n",
    "Different types of binding sites have characteristic residue patterns<sup>13</sup>.\n",
    "- **Aromatic Residue Enrichment:** Pockets with multiple aromatic residues (Phe, Tyr, Trp, His) score higher (+0.5) due to their importance in π-stacking interactions with ligands.\n",
    "- **Heme-binding sites:** Characterized by His paired with Met or Cys (+1.0).\n",
    "- **Nucleotide-binding sites:** Identified by glycine-rich loops with positively charged residues (Lys, Arg) (+1.0).\n",
    "- **Metal-binding sites:** Detected by clusters of coordinating residues (His, Cys, Asp, Glu)(+1.0).\n",
    "\n",
    "**3.4 Catalytic Triads**\n",
    "\n",
    "Specific arrangements of residues (like Ser-His-Asp) common in certain enzyme classes<sup>13</sup>.\n",
    "- Complete catalytic triads receive the highest score (+1.5):\n",
    "  - Ser-His-Asp: Classic triad in serine proteases.\n",
    "  - Cys-His-Asp: Found in cysteine proteases.\n",
    "- These highly conserved arrangements are strong indicators of functionally important binding sites.\n",
    "\n"
   ]
  },
  {
   "cell_type": "markdown",
   "id": "i-Xq4vQIH5ti",
   "metadata": {
    "id": "i-Xq4vQIH5ti"
   },
   "source": [
    "## **Consensus Approach**\n",
    "The core theoretical concept is that combining multiple detection methods improves accuracy<sup>2, 10</sup>:\n",
    "- Different methods may detect the same binding site, increasing confidence.\n",
    "- Methods are complementary: geometry focuses on shape, energy on chemical properties.\n",
    "- Consensus scoring reduces false positives.\n",
    "\n",
    "Our implementation uses a distance-based approach to identify consensus<sup>11</sup>:\n",
    "- Pockets detected by different methods are compared using a distance threshold of 5.0Å.\n",
    "- When pockets from different methods are within this threshold, they are considered to represent the same binding site.\n",
    "- The consensus score is increased by 2 points for each additional method that identifies the same region.\n",
    "- The method information is tracked for each pocket, allowing identification of sites found by multiple approaches.\n",
    "\n",
    "The algorithm also filters overlapping pockets to prevent redundant predictions:\n",
    "- Pockets are sorted by their final score.\n",
    "- If a pocket is within the distance threshold of an already selected higher-scoring pocket, it is considered an overlap.\n",
    "- Methods that detected the overlapping pocket are added to the higher-scoring pocket's definition methods list.\n",
    "- Only non-overlapping pockets are retained in the final output."
   ]
  },
  {
   "cell_type": "markdown",
   "id": "8O6uDPxeIxME",
   "metadata": {
    "id": "8O6uDPxeIxME"
   },
   "source": [
    "## **Druggability Assessment**<sup>3</sup>\n",
    "\n",
    "After potential binding sites are identified, they are evaluated for \"druggability\" (likelihood of binding drug-like molecules):\n",
    "- **Volume Analysis:** Optimal binding pockets have volumes in the range of 200-800Å³ <sup>14</sup>.\n",
    "  - A volume score is calculated as: $$ max(0, 1 - abs(\\text{volume} - 500) / 300) $$\n",
    "  - This formula favors pockets with volumes around 500Å³, with scores decreasing as volumes deviate from this optimal value.\n",
    "- **Hydrophobic/Hydrophilic Balance:** Druggable pockets typically have a balanced composition<sup>12</sup>.\n",
    "  - Ideal pockets have approximately 60% hydrophobic residues.\n",
    "  - The hydrophobic score is calculated as: $$ max(0, 1 - abs(\\text{hydrophobic_fraction} - 0.6) / 0.4) $$\n",
    "  - This formula rewards pockets with hydrophobic fractions between 20-100%, with optimal scores at 60%.\n",
    "- **Enclosure:** Well-enclosed pockets that protect ligands from solvent are more druggable<sup>2, 3</sup>.\n",
    "  - This is indirectly assessed through the geometric methods and concavity testing.\n",
    "\n",
    "The final druggability score is the average of the volume and hydrophobic scores, providing a 0-1 scale where higher values indicate greater druggability.\n"
   ]
  },
  {
   "cell_type": "markdown",
   "id": "LI4dD9enJm26",
   "metadata": {
    "id": "LI4dD9enJm26"
   },
   "source": [
    "## **Scoring System**\n",
    "\n",
    "The theoretical strength of this approach lies in its multi-faceted assessment, combining physical, chemical, and statistical information to identify and rank potential binding sites that would be most suitable for drug design or understanding protein function<sup>15</sup>.\n",
    "\n",
    "The scoring system in this code implements a sophisticated approach to identify and prioritize protein binding sites that combines multiple scientific principles.\n",
    "\n",
    "**1. Protein-type specific adjustments**\n",
    "\n",
    "The system recognizes that different classes of proteins have different binding site characteristics<sup>5, 16</sup>.\n",
    "- **For enzymes:** Boosts sites with catalytic residue patterns (+30% to consensus score when knowledge score > 1.5), reflecting the importance of specific amino acid arrangements in enzymatic function.\n",
    "- **For transporters:** Prioritizes larger cavities with a 20% boost to consensus score for pockets over 300 units in size, consistent with the need for channel-like structures to transport molecules.\n",
    "- **For receptors:** Favors pockets with high druggability (>0.6) with a 15% boost to consensus score, aligning with ligand-binding properties of receptors.\n",
    "\n",
    "**2. Multi-factor scoring formula**\n",
    "\n",
    "The final score combines multiple factors with appropriate weighting:\n",
    "$$ \\text{final_score} = \\text{consensus_score} * 3.0 + \\text{knowledge_score} * 0.5 $$\n",
    "  Where:\n",
    "- **Consensus score:** Represents agreement across prediction methods.\n",
    "- **Knowledge/Druggability score:** Represents prior knowledge about binding potential.\n",
    "\n",
    "**3. Adaptive Statistical Filtering**\n",
    "\n",
    "The system employs two-tiered approach to automatically determine significance thresholds:\n",
    "- **Primary method - Hierarchical clustering**\n",
    "  - Uses Ward's linkage method to identify natural breaks in the score distribution (similar to Jenks Natural Breaks optimization).\n",
    "  - Dynamically determines the optimal number of clusters (2-4) by maximizing the separaton between highest and second-highest cluster mean<sup>17</sup>.\n",
    "  - Retains only pockets in the highest-scoring cluster, reflecting the biological reality that true binding sites often have distinctly higher scores than false positives<sup>16</sup>.\n",
    "\n",
    "- **Fallback Statistical Filtering**\n",
    "  - Applied when clustering is not appropriate (fewer than 3 pockets) or when clustering fails.\n",
    "  - Uses Z-score normalization where pockets with Z-scores > 0 (above average) are retained<sup>18</sup>.\n",
    "  - Special handling for edge cases:\n",
    "    - When all scores are nearly identical, only the top-scoring pocket is retained.\n",
    "    - When all scores have below-average Z-scores, only the top-scoring pocket is kept.\n",
    "    - When only one pocket is found, it is automatically retained.\n",
    "\n",
    "The scoring system is particularly elegant because it adapts to different protein types and automatically determines significance thresholds from the data itself, rather than using arbitrary cutoffs. This approach matches the biological reality that binding site characteristics vary considerably across protein families."
   ]
  },
  {
   "cell_type": "markdown",
   "id": "_vT0Vqv77BhW",
   "metadata": {
    "id": "_vT0Vqv77BhW"
   },
   "source": [
    "## **Implementation Details**\n",
    "\n",
    "Our algorithm leverages several established bioinformatics and computational libraries to efficiently predict binding sites.\n",
    "\n",
    "**1. Core Libraries:**\n",
    "- **NumPy:** For efficient array operations and numerical calculations.\n",
    "- **SciPy:** For spatial data structures (KDTree), distance calculations, and hierarchical clustering.\n",
    "- **BioPython:** For protein structure parsing and atom selection.\n",
    "\n",
    "**2. Computational Optimizations:**\n",
    "- **Sparse Grid Sampling:** Instead of evaluating every possible grid point, the algorithm uses sparse sampling (up to 5000 points) to significantly reduce computation time while maintaining accuracy<sup>7</sup>.\n",
    "- **KDTree Data Structure:** Enables efficient nearest-neighbor searches for atoms, critical for both geometric and energy-based calculations.\n",
    "- **Hierarchical Clustering:** Used to group similar points and identify distinct pockets, with optimized distance thresholds<sup>17</sup>.\n",
    "\n",
    "**3. Adaptive Methods:**\n",
    "- The code includes fallback methods when primary approaches fail (e.g., switching from cavity detection to surface analysis).\n",
    "- Parameter adjustment when default setting do not yield results (e.g., increasing probe radius).\n",
    "- This adaptivity ensures robust performance across diverse protein structures.\n",
    "\n",
    "**4. Performance Considerations:**\n",
    "- DBSCAN clustering for efficient identification of surface pockets.\n",
    "- Strategic filtering of grid points by distance before performing computationally expensive energy calculations.\n",
    "- Distance-based filtering of overlapping pockets to prevent redundant predictions."
   ]
  },
  {
   "cell_type": "markdown",
   "id": "k1iBTLQsQXpu",
   "metadata": {
    "id": "k1iBTLQsQXpu"
   },
   "source": [
    "## **Future Improvements**\n",
    "\n",
    "While our consensus-based approach to binding site prediction integrates multiple detection methods effectively, several improvements could enhance the reliability, accuracy, and reproducibility of the predictions.\n",
    "\n",
    "**1. Reproducibility Enhancements**\n",
    "\n",
    "The current implementation occassionally produces different results across multiple runs due to its reliance on random sampling. This affects the ray directions used in concavity assessment, grid point sampling in energy-based detection, and the initialization in DBSCAN clustering. Implementing a fixed seed for random number generation or replacing random sampling with deterministic uniform grids would create more consistent predictions that researchers could reproduce exactly.\n",
    "\n",
    "**2. Geometric Detection Improvements**\n",
    "\n",
    "The geometric detection methods could benefit substantially from mathematical advancements. Rather than using grid-based cavity detection, alpha shapes would provide mathematically rigorous definitions of protein surfaces and cavities<sup>19</sup>.\n",
    "This approach would be less sensitive to grid resolution and orientation issues. Additionally, conducting detecting at multiple probe radii simultaneously (such as 1.4Å, 1.8Å, and 2.2Å) would identify pockets of various sizes and depths in a single pass, eliminating the current stepwise fallback mechanism.\n",
    "\n",
    "**3. Energy-Based Detection Refinements**\n",
    "\n",
    "Our energy-based detection uses simplified calculations for hydrophobicity and electrostatics. Integrating established molecular mechanisms force fields from libraries like Amber would significantly improve physicochemical evaluations<sup>20</sup>.\n",
    "Computational solvent mapping with multiple probe types (hydrophobic, hydrogen bond donors/acceptors, and charged probes) would provide a more nuanced identification of binding hotspots across different interaction types.\n",
    "\n",
    "**4. Evolutionary Conservation Analysis**\n",
    "\n",
    "Perhaps the most impactful addition would be evolutionary conservation analysis. Functionally important regions in proteins tend to be conserved across species, and binding sites are no exception. Integrating multiple sequence alignment analysis to identify conserved residues would add a powerful biological dimension to our predictions, particularly for enzymes where active sites show strong conservation patterns<sup>1, 13</sup>.\n",
    "\n",
    "**5. Machine Learning Integration**\n",
    "\n",
    "Machine learning presents another promising frontier. Our current rule-based scoring system could be supplemented or replaced by supervised models trained on known protein-ligand complexes. A classifier using features like geometric properties, physicochemical characteristics, residue composition, and conservation scores would likely outperform our current heuristic approach. More ambitious implementations might employ 3D convolutional neural networks or graph neural networks to capture the complex spatial relationships within binding pockets<sup>12, 16</sup>.\n",
    "\n",
    "**Implementation Constraints**\n",
    "\n",
    "Despite these promising directions, we have deliberately maintained our current approach for several compelling reasons. The primary consideration is computational efficiency and accessibility. Many of the proposed improvements ̣(particularly force field integration, evolutionary analysis, and machine learning implementations) would drastically increase computational requirements.\n",
    "\n",
    "The current implementation also prioritizes interpretability. Each detection method and scoring component follows explainable biological and chemical principles that researchers can understand and trust.\n",
    "\n",
    "Furthermore, maintaining software dependencies at a manageable level ensures broader adoption and easier maintenance. Integrating specialized libraries for alpha shapes, force fields, or evolutionary analysis would add subtantial dependencies that could create compatibility issues.\n",
    "\n",
    "Finally, our current approach already achieves a quite well performance on some protein structures through its consensus methodology. The enhancements described represent refinements rather than fundamental redesigns, suggesting we have reached a favorable balance between accuracy, speed, and usability for applications in binding site prediction."
   ]
  },
  {
   "cell_type": "markdown",
   "id": "85b97a61",
   "metadata": {
    "id": "85b97a61"
   },
   "source": [
    "## **References**\n",
    "\n",
    "1. Tsujikawa, H., Sato, K., Wei, C., Saad, G., Sumikoshi, K., Nakamura, S., Terada, T., & Shimizu, K. (2016). Development of a protein-ligand-binding site prediction method based on interaction energy and sequence conservation. Journal of structural and functional genomics, 17(2-3), 39–49. https://doi.org/10.1007/s10969-016-9204-2\n",
    "\n",
    "2. Simões, T., Lopes, D., Dias, S., Fernandes, F., Pereira, J., Jorge, J., Bajaj, C., & Gomes, A. (2017). Geometric Detection Algorithms for Cavities on Protein Surfaces in Molecular Graphics: A Survey. Computer graphics forum : journal of the European Association for Computer Graphics, 36(8), 643–683. https://doi.org/10.1111/cgf.13158\n",
    "\n",
    "3. Liu, Y., Grimm, M., Dai, Wt. et al. CB-Dock: a web server for cavity detection-guided protein–ligand blind docking. Acta Pharmacol Sin 41, 138–144 (2020). https://doi.org/10.1038/s41401-019-0228-6\n",
    "\n",
    "4. Momen-Roknabadi, A., Sadeghi, M., Pezeshk, H., & Marashi, S. A. (2008). Impact of residue accessible surface area on the prediction of protein secondary structures. BMC bioinformatics, 9, 357. https://doi.org/10.1186/1471-2105-9-357\n",
    "\n",
    "5. Lin, X., Yang, H., Ye, J. (2015). Identification of Hot Regions in Protein-Protein Interactions Based on SVM and DBSCAN. In: Huang, DS., Jo, KH., Hussain, A. (eds) Intelligent Computing Theories and Methodologies. ICIC 2015. Lecture Notes in Computer Science(), vol 9226. Springer, Cham. https://doi.org/10.1007/978-3-319-22186-1_38\n",
    "\n",
    "6. Ringe, D., & Mattos, C. (1999). Analysis of the binding surfaces of proteins. Medicinal research reviews, 19(4), 321–331. https://doi.org/10.1002/(SICI)1098-1128(199907)19:4<321::AID-MED5>3.0.CO;2-F\n",
    "\n",
    "7. Deep Biswas, A., Sabato, E., Vittorio , S. (2025). Novel Method for Prioritizing Protein Binding Sites Using Pocket Analysis and MD Simulations. Heliyon, Elsevier, 5 Mar. 2025. https://doi.org/10.1016/j.heliyon.2025.e43084\n",
    "\n",
    "8. Liang, S., Zhang, C., Liu, S., & Zhou, Y. (2006). Protein binding site prediction using an empirical scoring function. Nucleic acids research, 34(13), 3698–3707. https://doi.org/10.1093/nar/gkl454\n",
    "\n",
    "9. Laurie, A. T., & Jackson, R. M. (2005). Q-SiteFinder: an energy-based method for the prediction of protein-ligand binding sites. Bioinformatics (Oxford, England), 21(9), 1908–1916. https://doi.org/10.1093/bioinformatics/bti315\n",
    "\n",
    "10. Guo, Z., Li, B., Cheng, L. T., Zhou, S., McCammon, J. A., & Che, J. (2015). Identification of protein-ligand binding sites by the level-set variational implicit-solvent approach. Journal of chemical theory and computation, 11(2), 753–765. https://doi.org/10.1021/ct500867u\n",
    "\n",
    "11. Huang B. (2009). MetaPocket: a meta approach to improve protein ligand binding site prediction. Omics : a journal of integrative biology, 13(4), 325–330. https://doi.org/10.1089/omi.2009.0045\n",
    "\n",
    "12. Tubiana, J., Schneidman-Duhovny, D. & Wolfson, H.J. (2022). ScanNet: an interpretable geometric deep learning model for structure-based protein binding site prediction. Nat Methods 19, 730–739. https://doi.org/10.1038/s41592-022-01490-7\n",
    "\n",
    "13. Y.Y. Tseng, & W. Li, Evolutionary approach to predicting the binding site residues of a protein from its primary sequence, Proc. Natl. Acad. Sci. U.S.A. 108 (13) 5313-5318, https://doi.org/10.1073/pnas.1102210108 (2011).\n",
    "\n",
    "14. Durrant, J. D., de Oliveira, C. A., & McCammon, J. A. (2011). POVME: an algorithm for measuring binding-pocket volumes. Journal of molecular graphics & modelling, 29(5), 773–776. https://doi.org/10.1016/j.jmgm.2010.10.007\n",
    "\n",
    "15. Sliwoski, G., Kothiwale, S., Meiler, J., & Lowe, E. W., Jr (2013). Computational methods in drug discovery. Pharmacological reviews, 66(1), 334–395. https://doi.org/10.1124/pr.112.007336\n",
    "\n",
    "16. Fang, Y., Jiang, Y., Wei, L., Ma, Q., Ren, Z., Yuan, Q., & Wei, D. Q. (2023). DeepProSite: structure-aware protein binding site prediction using ESMFold and pretrained language model. Bioinformatics (Oxford, England), 39(12), btad718. https://doi.org/10.1093/bioinformatics/btad718\n",
    "\n",
    "17. Gagliardi, L., & Rocchia, W. (2023). SiteFerret: Beyond Simple Pocket Identification in Proteins. Journal of chemical theory and computation, 19(15), 5242–5259. https://doi.org/10.1021/acs.jctc.2c01306\n",
    "\n",
    "18. Jiang, M., Li, Z., Bian, Y., & Wei, Z. (2019). A novel protein descriptor for the prediction of drug binding sites. BMC bioinformatics, 20(1), 478. https://doi.org/10.1186/s12859-019-3058-0\n",
    "\n",
    "19. Zhou, W., & Yan, H. (2014). Alpha shape and Delaunay triangulation in studies of protein-related interactions. Briefings in bioinformatics, 15(1), 54–64. https://doi.org/10.1093/bib/bbs077\n",
    "\n",
    "20. Mu, J., Liu, H., Zhang, J., Luo, R., & Chen, H. F. (2021). Recent Force Field Strategies for Intrinsically Disordered Proteins. Journal of chemical information and modeling, 61(3), 1037–1047. https://doi.org/10.1021/acs.jcim.0c01175"
   ]
  }
 ],
 "metadata": {
  "colab": {
   "provenance": []
  },
  "kernelspec": {
   "display_name": "Python 3 (ipykernel)",
   "language": "python",
   "name": "python3"
  },
  "language_info": {
   "codemirror_mode": {
    "name": "ipython",
    "version": 3
   },
   "file_extension": ".py",
   "mimetype": "text/x-python",
   "name": "python",
   "nbconvert_exporter": "python",
   "pygments_lexer": "ipython3",
   "version": "3.12.2"
  }
 },
 "nbformat": 4,
 "nbformat_minor": 5
}
