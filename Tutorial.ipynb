{
 "cells": [
  {
   "cell_type": "markdown",
   "id": "a2dd33ec-c396-4894-8ff7-e525bed9d31f",
   "metadata": {},
   "source": [
    "# ConSBind Tutorial - Programmatic Usage\n",
    "\n",
    "This notebook demonstrates how to use the ConSBind package programmatically for predicting protein binding sites,\n",
    "with enhanced visualizations and analysis."
   ]
  },
  {
   "cell_type": "markdown",
   "id": "8109a9a2-2bb3-4e52-89d8-6636182ad9a2",
   "metadata": {},
   "source": [
    "## Overview\n",
    "\n",
    "ConSBind (Consensus Structural Binding site predictor) identifies potential binding sites in protein structures\n",
    "using a consensus of geometric and energy-based approaches. This tutorial shows how to:\n",
    "\n",
    "1. Load protein structures\n",
    "2. Run binding site predictions\n",
    "3. Access and analyze prediction results\n",
    "4. Visualize binding sites with advanced plots\n",
    "5. Compare different scoring methods\n",
    "6. Analyze pocket properties\n",
    "\n",
    "Let's get started!"
   ]
  },
  {
   "cell_type": "markdown",
   "id": "c1a79c7e-dd92-41a7-b4e1-85edee01cd60",
   "metadata": {},
   "source": [
    "## Setup\n",
    "\n",
    "First, let's import the necessary modules and set up logging."
   ]
  },
  {
   "cell_type": "code",
   "execution_count": 2,
   "id": "e8050760-b2f9-4b45-8600-4b2036bd0088",
   "metadata": {},
   "outputs": [],
   "source": [
    "import os\n",
    "import sys\n",
    "import logging\n",
    "import numpy as np\n",
    "from pathlib import Path\n",
    "import matplotlib.pyplot as plt\n",
    "import pandas as pd\n",
    "import seaborn as sns\n",
    "from mpl_toolkits.mplot3d import Axes3D\n",
    "from IPython.display import Image, display\n",
    "from Bio.PDB import PDBParser, Selection\n",
    "\n",
    "# Import ConSBind modules\n",
    "from ConSBind.input.file_handler import convert_ent_to_pdb, find_pdb_files\n",
    "from ConSBind.core.structure import ProteinStructure\n",
    "from ConSBind.core.finder import ConsensusPocketFinder\n",
    "from ConSBind.core.scoring import final_scoring\n",
    "from ConSBind.output.output import save_predictions, save_pymol, save_chimera\n",
    "\n",
    "# Configure logging\n",
    "logging.basicConfig(level=logging.INFO, format='%(asctime)s - %(name)s - %(levelname)s - %(message)s')\n",
    "logger = logging.getLogger('ConSBind-Tutorial')"
   ]
  },
  {
   "cell_type": "markdown",
   "id": "50d2259c-ade5-4d5c-8e45-23ada87ea61b",
   "metadata": {},
   "source": [
    "## Load Protein Structure\n",
    "\n",
    "First, we'll load a protein structure from a PDB file. ConSBind requires a valid PDB file as input.\n",
    "If you don't have a PDB file handy, you can download one from the Protein Data Bank using BioPython's PDBList module.\n",
    "\n",
    "For this tutorial, we'll downlod HIV-1 protease with indinavir (`1HSG`):"
   ]
  },
  {
   "cell_type": "code",
   "execution_count": 6,
   "id": "bf2f4878-19c5-4802-a2d5-ff0a55634031",
   "metadata": {},
   "outputs": [
    {
     "name": "stdout",
     "output_type": "stream",
     "text": [
      "Downloading PDB ID: 1hsg in PDB format...\n",
      "Downloading PDB structure '1hsg'...\n"
     ]
    },
    {
     "name": "stderr",
     "output_type": "stream",
     "text": [
      "2025-03-25 19:48:56,083 - ConSBind - INFO - Converting .ent file to .pdb format: pdb1hsg.ent\n",
      "2025-03-25 19:48:56,092 - ConSBind - INFO - Converted to: pdb1hsg.pdb\n"
     ]
    },
    {
     "name": "stdout",
     "output_type": "stream",
     "text": [
      "Downloaded PDB file to data/tutorial/pdb1hsg.ent\n",
      "Converted to PDB format: /var/folders/jh/bm1wh6mn3ms2596tlzslwrdw0000gn/T/consbind_temp/pdb1hsg.pdb\n"
     ]
    }
   ],
   "source": [
    "import Bio.PDB.PDBList\n",
    "pdblist = Bio.PDB.PDBList()\n",
    "pdb_id = \"1hsg\" \n",
    "os.makedirs(\"data/tutorial\", exist_ok=True)\n",
    "\n",
    "print(f\"Downloading PDB ID: {pdb_id} in PDB format...\")\n",
    "pdblist.retrieve_pdb_file(pdb_id, file_format=\"pdb\", pdir=\"data/tutorial\")\n",
    "    \n",
    "# PDBList downloads files with .ent extension\n",
    "ent_file = Path(f\"data/tutorial/pdb{pdb_id}.ent\")\n",
    "    \n",
    "print(f\"Downloaded PDB file to {ent_file}\")\n",
    "\n",
    "# Convert .ent to .pdb using ConSBind's file handler\n",
    "pdb_file = str(convert_ent_to_pdb(ent_file))\n",
    "print(f\"Converted to PDB format: {pdb_file}\")"
   ]
  },
  {
   "cell_type": "markdown",
   "id": "efc543f4-e1c5-4efd-b43b-e923cffb38d0",
   "metadata": {},
   "source": [
    "Now that we have a PDB file, we can load it using ConSBind's ProteinStructure class.\n",
    "This class handles parsing the PDB file and preparing it for binding site prediction."
   ]
  },
  {
   "cell_type": "code",
   "execution_count": 7,
   "id": "f9ddeab3-7ba9-4762-88f8-f7a4525eae1d",
   "metadata": {},
   "outputs": [
    {
     "name": "stdout",
     "output_type": "stream",
     "text": [
      "Loading protein structure from /var/folders/jh/bm1wh6mn3ms2596tlzslwrdw0000gn/T/consbind_temp/pdb1hsg.pdb...\n",
      "Protein structure loaded successfully!\n",
      "Protein ID: pdb1hsg\n",
      "Number of chains: 2\n",
      "Number of residues: 326\n",
      "Number of atoms: 1686\n"
     ]
    }
   ],
   "source": [
    "try:\n",
    "    print(f\"Loading protein structure from {pdb_file}...\")\n",
    "    protein = ProteinStructure(pdb_file)\n",
    "    print(\"Protein structure loaded successfully!\")\n",
    "    \n",
    "except Exception as e:\n",
    "    print(f\"Error loading protein structure: {str(e)}\")\n",
    "    sys.exit(1)"
   ]
  },
  {
   "cell_type": "markdown",
   "id": "6ff2989c-4f55-46e4-bf19-edb9d71962d8",
   "metadata": {},
   "source": [
    "## Protein Structure Analysis\n",
    "\n",
    "Before predicting binding sites, let's analyze the protein structure to understand its properties.\n"
   ]
  },
  {
   "cell_type": "code",
   "execution_count": 11,
   "id": "ced1773d-2a69-403e-981d-86bea65f069d",
   "metadata": {},
   "outputs": [
    {
     "name": "stdout",
     "output_type": "stream",
     "text": [
      "Protein ID: pdb1hsg\n",
      "Number of chains: 2\n",
      "Number of residues: 326\n",
      "Number of atoms: 1686\n"
     ]
    },
    {
     "data": {
      "image/png": "[encoded data removed]",
      "text/plain": [
       "<Figure size 1200x600 with 1 Axes>"
      ]
     },
     "metadata": {},
     "output_type": "display_data"
    },
    {
     "data": {
      "image/png": "[encoded data removed]",
      "text/plain": [
       "<Figure size 1000x600 with 1 Axes>"
      ]
     },
     "metadata": {},
     "output_type": "display_data"
    }
   ],
   "source": [
    "def analyze_protein_structure(protein):\n",
    "    \"\"\"\n",
    "    Analyze and visualize protein structure properties\n",
    "    \"\"\"\n",
    "    # Get basic protein information\n",
    "    structure = protein.structure\n",
    "    chains = list(structure.get_chains())\n",
    "    residues = list(structure.get_residues())\n",
    "    atoms = list(structure.get_atoms())\n",
    "    \n",
    "    print(f\"Protein ID: {protein.pdb_id}\")\n",
    "    print(f\"Number of chains: {len(chains)}\")\n",
    "    print(f\"Number of residues: {len(residues)}\")\n",
    "    print(f\"Number of atoms: {len(atoms)}\")\n",
    "    \n",
    "    # Analyze residue composition\n",
    "    residue_types = {}\n",
    "    for residue in residues:\n",
    "        res_name = residue.get_resname()\n",
    "        if res_name in residue_types:\n",
    "            residue_types[res_name] += 1\n",
    "        else:\n",
    "            residue_types[res_name] = 1\n",
    "    \n",
    "    # Exclude non-standard residues\n",
    "    standard_residues = {\n",
    "        'ALA': 'Alanine', 'ARG': 'Arginine', 'ASN': 'Asparagine', \n",
    "        'ASP': 'Aspartic acid', 'CYS': 'Cysteine', 'GLN': 'Glutamine', \n",
    "        'GLU': 'Glutamic acid', 'GLY': 'Glycine', 'HIS': 'Histidine', \n",
    "        'ILE': 'Isoleucine', 'LEU': 'Leucine', 'LYS': 'Lysine', \n",
    "        'MET': 'Methionine', 'PHE': 'Phenylalanine', 'PRO': 'Proline', \n",
    "        'SER': 'Serine', 'THR': 'Threonine', 'TRP': 'Tryptophan', \n",
    "        'TYR': 'Tyrosine', 'VAL': 'Valine'\n",
    "    }\n",
    "    \n",
    "    # Filter for standard residues\n",
    "    std_residue_counts = {k: v for k, v in residue_types.items() if k in standard_residues}\n",
    "    \n",
    "    # Plot residue composition\n",
    "    plt.figure(figsize=(12, 6))\n",
    "    plt.bar(std_residue_counts.keys(), std_residue_counts.values(), color='skyblue')\n",
    "    plt.title('Amino Acid Composition')\n",
    "    plt.xlabel('Amino Acid')\n",
    "    plt.ylabel('Count')\n",
    "    plt.xticks(rotation=45)\n",
    "    plt.tight_layout()\n",
    "    plt.show()\n",
    "    \n",
    "    # Categorize residues by property\n",
    "    hydrophobic = ['ALA', 'VAL', 'ILE', 'LEU', 'MET', 'PHE', 'TYR', 'TRP']\n",
    "    polar = ['SER', 'THR', 'ASN', 'GLN', 'CYS']\n",
    "    charged_positive = ['LYS', 'ARG', 'HIS']\n",
    "    charged_negative = ['ASP', 'GLU']\n",
    "    special = ['GLY', 'PRO']\n",
    "    \n",
    "    categories = {\n",
    "        'Hydrophobic': sum(std_residue_counts.get(aa, 0) for aa in hydrophobic),\n",
    "        'Polar': sum(std_residue_counts.get(aa, 0) for aa in polar),\n",
    "        'Positive': sum(std_residue_counts.get(aa, 0) for aa in charged_positive),\n",
    "        'Negative': sum(std_residue_counts.get(aa, 0) for aa in charged_negative),\n",
    "        'Special': sum(std_residue_counts.get(aa, 0) for aa in special)\n",
    "    }\n",
    "    \n",
    "    # Plot residue categories\n",
    "    plt.figure(figsize=(10, 6))\n",
    "    plt.pie(categories.values(), labels=categories.keys(), autopct='%1.1f%%', \n",
    "            startangle=140, colors=['#ff9999','#66b3ff','#99ff99','#ffcc99','#c2c2f0'])\n",
    "    plt.axis('equal')\n",
    "    plt.title('Residue Properties Distribution')\n",
    "    plt.tight_layout()\n",
    "    plt.show()\n",
    "    \n",
    "    return residue_types\n",
    "\n",
    "# Analyze the protein structure\n",
    "residue_composition = analyze_protein_structure(protein)"
   ]
  },
  {
   "cell_type": "markdown",
   "id": "6bbb8b19-398e-4485-90cf-e13f6fe5abcb",
   "metadata": {},
   "source": [
    "## Creating a Binding Site Prediction Function\n",
    "\n",
    "Next, let's define a function to predict binding sites:"
   ]
  },
  {
   "cell_type": "code",
   "execution_count": 38,
   "id": "5a4f2148-e361-4499-a856-08b46904d318",
   "metadata": {},
   "outputs": [
    {
     "name": "stderr",
     "output_type": "stream",
     "text": [
      "2025-03-25 20:51:00,902 - ConSBind - INFO - Created grid with dimensions: 58x81x75\n"
     ]
    },
    {
     "name": "stdout",
     "output_type": "stream",
     "text": [
      "Predicting binding sites for pdb1hsg...\n"
     ]
    },
    {
     "name": "stderr",
     "output_type": "stream",
     "text": [
      "2025-03-25 20:51:02,065 - ConSBind - INFO - Found 492 potential cavity points\n",
      "2025-03-25 20:51:02,082 - ConSBind - INFO - Found 22 cavities after clustering\n",
      "2025-03-25 20:51:02,084 - ConSBind - INFO - Identified 806 surface atoms\n",
      "2025-03-25 20:51:02,084 - ConSBind - INFO - Calculating energy scores for grid points...\n"
     ]
    },
    {
     "name": "stdout",
     "output_type": "stream",
     "text": [
      "Found 22 pockets using geometric method\n"
     ]
    },
    {
     "name": "stderr",
     "output_type": "stream",
     "text": [
      "2025-03-25 20:51:11,312 - ConSBind - INFO - Found 91 high-energy points\n",
      "2025-03-25 20:51:11,316 - ConSBind - INFO - Found 7 energy-based pockets after clustering\n",
      "2025-03-25 20:51:11,381 - ConSBind - INFO - Combined into 24 consensus pockets\n",
      "2025-03-25 20:51:11,382 - ConSBind - INFO - Automatic filtering identified 4 significant pockets out of 24 total\n",
      "2025-03-25 20:51:11,382 - ConSBind - INFO - Final selection: 4 pockets with scores ranging from 17.28 to 10.91\n"
     ]
    },
    {
     "name": "stdout",
     "output_type": "stream",
     "text": [
      "Found 7 pockets using energy-based method\n",
      "Combined into 24 consensus pockets\n",
      "Final selection: 4 significant pockets\n"
     ]
    }
   ],
   "source": [
    "\n",
    "def predict_binding_sites(protein, protein_type='enzyme', probe_radius=1.4, min_size=5):\n",
    "    \"\"\"\n",
    "    Predict binding sites for a protein structure.\n",
    "    \"\"\"\n",
    "    print(f\"Predicting binding sites for {protein.pdb_id}...\")\n",
    "    \n",
    "    # Create a pocket finder\n",
    "    finder = ConsensusPocketFinder()\n",
    "    \n",
    "    # Find pockets using geometric method\n",
    "    geometric_pockets = finder.find_pockets_geometric(protein, probe_radius=probe_radius, min_size=min_size)\n",
    "    print(f\"Found {len(geometric_pockets)} pockets using geometric method\")\n",
    "    \n",
    "    # Find pockets using energy-based method\n",
    "    energy_pockets = finder.find_pockets_energy(protein)\n",
    "    print(f\"Found {len(energy_pockets)} pockets using energy-based method\")\n",
    "    \n",
    "    # Combine pockets from different methods\n",
    "    consensus_pockets = finder.combine_pockets(protein, geometric_pockets, energy_pockets)\n",
    "    print(f\"Combined into {len(consensus_pockets)} consensus pockets\")\n",
    "    \n",
    "    # Apply final scoring and filtering\n",
    "    final_pockets = final_scoring(consensus_pockets, protein_type)\n",
    "    print(f\"Final selection: {len(final_pockets)} significant pockets\")\n",
    "    \n",
    "    return final_pockets\n",
    "\n",
    "# Run the prediction\n",
    "pockets = predict_binding_sites(protein, protein_type='enzyme')\n"
   ]
  },
  {
   "cell_type": "markdown",
   "id": "e3b4a03f-d646-43ba-998a-e833293689a8",
   "metadata": {},
   "source": [
    "## Visualizing Binding Site Predictions\n",
    "\n",
    "Let's visualize the binding site predictions in various ways:"
   ]
  },
  {
   "cell_type": "code",
   "execution_count": 31,
   "id": "3bea3d0f-fb54-4730-9771-652593c23e42",
   "metadata": {},
   "outputs": [
    {
     "name": "stderr",
     "output_type": "stream",
     "text": [
      "2025-03-25 20:44:58,176 - ConSBind - INFO - Created grid with dimensions: 58x81x75\n"
     ]
    },
    {
     "name": "stdout",
     "output_type": "stream",
     "text": [
      "Predicting binding sites for pdb1hsg...\n"
     ]
    },
    {
     "name": "stderr",
     "output_type": "stream",
     "text": [
      "2025-03-25 20:44:59,045 - ConSBind - INFO - Found 531 potential cavity points\n",
      "2025-03-25 20:44:59,056 - ConSBind - INFO - Found 18 cavities after clustering\n",
      "2025-03-25 20:44:59,058 - ConSBind - INFO - Identified 806 surface atoms\n",
      "2025-03-25 20:44:59,059 - ConSBind - INFO - Calculating energy scores for grid points...\n"
     ]
    },
    {
     "name": "stdout",
     "output_type": "stream",
     "text": [
      "Found 18 pockets using geometric method\n"
     ]
    },
    {
     "name": "stderr",
     "output_type": "stream",
     "text": [
      "2025-03-25 20:45:08,485 - ConSBind - INFO - Found 91 high-energy points\n",
      "2025-03-25 20:45:08,489 - ConSBind - INFO - Found 6 energy-based pockets after clustering\n",
      "2025-03-25 20:45:08,549 - ConSBind - INFO - Combined into 23 consensus pockets\n",
      "2025-03-25 20:45:08,552 - ConSBind - INFO - Automatic filtering identified 1 significant pockets out of 23 total\n",
      "2025-03-25 20:45:08,557 - ConSBind - WARNING - Statistical filtering failed: list index out of range. Using all pockets.\n",
      "2025-03-25 20:45:08,558 - ConSBind - INFO - Final selection: 1 pockets with scores ranging from 14.76 to 14.76\n"
     ]
    },
    {
     "name": "stdout",
     "output_type": "stream",
     "text": [
      "Found 6 pockets using energy-based method\n",
      "Combined into 23 consensus pockets\n",
      "Final selection: 1 significant pockets\n",
      "\n",
      "============================================================\n",
      "                  PREDICTED BINDING SITES\n",
      "============================================================\n",
      "\n",
      "Binding Site 1 Details:\n",
      "------------------------------------------------------------\n",
      "\n",
      "Binding Potential Score: 14.76\n",
      "Consensus Score: 3.00\n",
      "Knowledge-based Score: 1.50\n",
      "Size: 45\n",
      "Center: [14.05, 36.54, 12.94]\n",
      "Detection Methods: geometric, energy\n",
      "\n",
      "Binding Site Residues:\n",
      "  A:ILE13\n",
      "  A:ILE15\n",
      "  A:ASP29\n",
      "  A:ASP30\n",
      "  A:THR31\n",
      "  A:VAL32\n",
      "  A:LEU33\n",
      "  A:ILE62\n",
      "  A:LEU63\n",
      "  A:ILE64\n",
      "  A:ILE66\n",
      "  A:ALA71\n",
      "  A:ILE72\n",
      "  A:GLY73\n",
      "  A:THR74\n",
      "  A:VAL75\n",
      "  A:LEU76\n",
      "  A:ILE84\n",
      "  A:ILE85\n",
      "  A:GLY86\n",
      "  A:ARG87\n",
      "  A:ASN88\n",
      "  A:LEU89\n",
      "  A:LEU90\n",
      "  A:THR91\n",
      "  A:GLN92\n",
      "  A:ILE93\n"
     ]
    }
   ],
   "source": [
    "def display_binding_sites(pockets, protein):\n",
    "    \"\"\"\n",
    "    Display detailed information about predicted binding sites.\n",
    "    \"\"\"\n",
    "    if not pockets:\n",
    "        print(\"No binding sites found.\")\n",
    "        return {}\n",
    "    \n",
    "    print(\"\\n\" + \"=\"*60)\n",
    "    print(\" \" * 18 + \"PREDICTED BINDING SITES\")\n",
    "    print(\"=\"*60)\n",
    "    \n",
    "    site_data = {\n",
    "        'site_id': [],\n",
    "        'consensus_score': [],\n",
    "        'final_score': [],\n",
    "        'knowledge_score': [],\n",
    "        'size': [],\n",
    "        'center_x': [],\n",
    "        'center_y': [],\n",
    "        'center_z': [],\n",
    "        'methods': [],\n",
    "        'residue_count': []\n",
    "    }\n",
    "    \n",
    "    for i, pocket in enumerate(pockets):\n",
    "        print(f\"\\nBinding Site {i+1} Details:\")\n",
    "        print(\"-\" * 60 + \"\\n\")\n",
    "        \n",
    "        # Extract scores\n",
    "        binding_score = pocket.get('final_score', 0)\n",
    "        consensus_score = pocket.get('consensus_score', 0)\n",
    "        knowledge_score = pocket.get('knowledge_score', 0)\n",
    "        \n",
    "        print(f\"Binding Potential Score: {binding_score:.2f}\")\n",
    "        print(f\"Consensus Score: {consensus_score:.2f}\")\n",
    "        print(f\"Knowledge-based Score: {knowledge_score:.2f}\")\n",
    "        \n",
    "        # Extract size and center\n",
    "        size = pocket.get('size', 0)\n",
    "        center = pocket.get('center', [0, 0, 0])\n",
    "        \n",
    "        print(f\"Size: {size}\")\n",
    "        print(f\"Center: [{center[0]:.2f}, {center[1]:.2f}, {center[2]:.2f}]\")\n",
    "        \n",
    "        # Extract detection methods\n",
    "        methods = pocket.get('methods', [])\n",
    "        print(f\"Detection Methods: {', '.join(methods)}\")\n",
    "        \n",
    "        # Extract residues\n",
    "        residues = pocket.get('residues', [])\n",
    "        print(\"\\nBinding Site Residues:\")\n",
    "        for residue in residues:\n",
    "            print(f\"  {residue}\")\n",
    "        \n",
    "        # Store data for visualization\n",
    "        site_data['site_id'].append(i+1)\n",
    "        site_data['consensus_score'].append(consensus_score)\n",
    "        site_data['final_score'].append(binding_score)\n",
    "        site_data['knowledge_score'].append(knowledge_score)\n",
    "        site_data['size'].append(size)\n",
    "        site_data['center_x'].append(center[0])\n",
    "        site_data['center_y'].append(center[1])\n",
    "        site_data['center_z'].append(center[2])\n",
    "        site_data['methods'].append(', '.join(methods))\n",
    "        site_data['residue_count'].append(len(residues))\n",
    "    \n",
    "    return site_data\n",
    "\n",
    "# Display the binding site details\n",
    "site_data = display_binding_sites(pockets, protein)"
   ]
  },
  {
   "cell_type": "markdown",
   "id": "9cd797c3-36ac-44b0-96f2-eb746ef34f13",
   "metadata": {},
   "source": [
    "## Saving Prediction Results\n",
    "\n",
    "ConSBind can generate visualization scripts for both PyMOL and UCSF Chimera.\n",
    "You can control which scripts are generated using the parameters.\n",
    "Now, let's save the prediction results to files for further analysis and visualization:"
   ]
  },
  {
   "cell_type": "code",
   "execution_count": 39,
   "id": "d0fdc143-1e82-427c-acbf-9199f0b82866",
   "metadata": {},
   "outputs": [
    {
     "name": "stderr",
     "output_type": "stream",
     "text": [
      "2025-03-25 20:51:11,414 - ConSBind - INFO - Predictions saved to results/tutorial/pdb1hsg_predictions.txt\n",
      "2025-03-25 20:51:11,414 - ConSBind - INFO - Modified PDB saved to results/tutorial/pdb1hsg_predicted.pdb\n",
      "2025-03-25 20:51:11,419 - ConSBind - INFO - PyMOL script saved to results/tutorial/pdb1hsg_pymol.pml\n",
      "2025-03-25 20:51:11,421 - ConSBind - INFO - UCSF Chimera BILD file saved to results/tutorial/pdb1hsg_spheres.bild\n",
      "2025-03-25 20:51:11,421 - ConSBind - INFO - UCSF Chimera script saved to results/tutorial/pdb1hsg_chimera.cmd\n"
     ]
    }
   ],
   "source": [
    "def save_results(pockets, protein, output_dir=\"results/tutorial\", generate_pymol=True, generate_chimera=True):\n",
    "    \"\"\"\n",
    "    Save prediction results to files.\n",
    "    \"\"\"\n",
    "    # Create output directory if it doesn't exist\n",
    "    os.makedirs(output_dir, exist_ok=True)\n",
    "    \n",
    "    # Define output prefix\n",
    "    output_prefix = os.path.join(output_dir, protein.pdb_id)\n",
    "    \n",
    "    # Save predictions to text and PDB files\n",
    "    output_file, output_pdb = save_predictions(pockets, protein, output_prefix)\n",
    "    \n",
    "    pymol_script = None\n",
    "    chimera_script = None\n",
    "    \n",
    "    if generate_pymol:\n",
    "        pymol_script = save_pymol(pockets, protein, output_prefix, output_pdb)\n",
    "    \n",
    "    if generate_chimera:\n",
    "        chimera_script = save_chimera(pockets, protein, output_prefix, output_pdb)\n",
    "    \n",
    "    return output_file, output_pdb, pymol_script, chimera_script\n",
    "\n",
    "output_files = save_results(pockets, protein)"
   ]
  },
  {
   "cell_type": "markdown",
   "id": "86606dfb-89ca-4a11-a4ac-17652bba1034",
   "metadata": {},
   "source": [
    "## Analyzing Residue Properties in Binding Sites\n",
    "\n",
    "Let's analyze the properties of residues in the binding sites:"
   ]
  },
  {
   "cell_type": "code",
   "execution_count": 37,
   "id": "f4e009fb-d69b-42d4-b4ff-00d3186f31e7",
   "metadata": {},
   "outputs": [
    {
     "data": {
      "image/png": "[encoded data removed]",
      "text/plain": [
       "<Figure size 1400x800 with 1 Axes>"
      ]
     },
     "metadata": {},
     "output_type": "display_data"
    }
   ],
   "source": [
    "def analyze_binding_site_residues(pockets, protein):\n",
    "    \"\"\"\n",
    "    Analyze the properties of residues in binding sites.\n",
    "    \n",
    "    Parameters:\n",
    "    -----------\n",
    "    pockets : list\n",
    "        List of pocket dictionaries\n",
    "    protein : ProteinStructure\n",
    "        The protein structure\n",
    "        \n",
    "    Returns:\n",
    "    --------\n",
    "    dict\n",
    "        Dictionary with residue analysis data\n",
    "    \"\"\"\n",
    "    if not pockets:\n",
    "        print(\"No binding sites to analyze.\")\n",
    "        return {}\n",
    "    \n",
    "    # Define residue property groups\n",
    "    residue_properties = {\n",
    "        'Hydrophobic': ['ALA', 'VAL', 'ILE', 'LEU', 'MET', 'PHE', 'TYR', 'TRP'],\n",
    "        'Polar': ['SER', 'THR', 'ASN', 'GLN', 'CYS'],\n",
    "        'Positive': ['LYS', 'ARG', 'HIS'],\n",
    "        'Negative': ['ASP', 'GLU'],\n",
    "        'Special': ['GLY', 'PRO']\n",
    "    }\n",
    "    \n",
    "    # Initialize data structure\n",
    "    analysis_data = {\n",
    "        'site_id': [],\n",
    "        'total_residues': [],\n",
    "        'hydrophobic': [],\n",
    "        'polar': [],\n",
    "        'positive': [],\n",
    "        'negative': [],\n",
    "        'special': []\n",
    "    }\n",
    "    \n",
    "    # Analyze each pocket\n",
    "    for i, pocket in enumerate(pockets):\n",
    "        residues = pocket.get('residues', [])\n",
    "        \n",
    "        # Count residues by property\n",
    "        property_counts = {prop: 0 for prop in residue_properties}\n",
    "        \n",
    "        for residue_str in residues:\n",
    "            # Extract residue name (format: \"A:ALA123\")\n",
    "            parts = residue_str.split(':')\n",
    "            if len(parts) == 2:\n",
    "                res_name = parts[1][:3]  # First 3 characters are the residue name\n",
    "                \n",
    "                # Count by property\n",
    "                for prop, res_list in residue_properties.items():\n",
    "                    if res_name in res_list:\n",
    "                        property_counts[prop] += 1\n",
    "                        break\n",
    "        \n",
    "        # Store data\n",
    "        analysis_data['site_id'].append(i+1)\n",
    "        analysis_data['total_residues'].append(len(residues))\n",
    "        analysis_data['hydrophobic'].append(property_counts['Hydrophobic'])\n",
    "        analysis_data['polar'].append(property_counts['Polar'])\n",
    "        analysis_data['positive'].append(property_counts['Positive'])\n",
    "        analysis_data['negative'].append(property_counts['Negative'])\n",
    "        analysis_data['special'].append(property_counts['Special'])\n",
    "    \n",
    "    # Create DataFrame\n",
    "    df = pd.DataFrame(analysis_data)\n",
    "    \n",
    "    # Calculate percentages\n",
    "    for prop in ['hydrophobic', 'polar', 'positive', 'negative', 'special']:\n",
    "        df[f'{prop}_pct'] = df[prop] / df['total_residues'] * 100\n",
    "    \n",
    "    # Plot residue composition for each binding site\n",
    "    plt.figure(figsize=(14, 8))\n",
    "    \n",
    "    # Set width of bars\n",
    "    barWidth = 0.15\n",
    "    \n",
    "    # Set positions of bars on X axis\n",
    "    r1 = np.arange(len(df['site_id']))\n",
    "    r2 = [x + barWidth for x in r1]\n",
    "    r3 = [x + barWidth for x in r2]\n",
    "    r4 = [x + barWidth for x in r3]\n",
    "    r5 = [x + barWidth for x in r4]\n",
    "    \n",
    "    # Create bars\n",
    "    plt.bar(r1, df['hydrophobic_pct'], width=barWidth, label='Hydrophobic', color='#ff9999')\n",
    "    plt.bar(r2, df['polar_pct'], width=barWidth, label='Polar', color='#66b3ff')\n",
    "    plt.bar(r3, df['positive_pct'], width=barWidth, label='Positive', color='#99ff99')\n",
    "    plt.bar(r4, df['negative_pct'], width=barWidth, label='Negative', color='#ffcc99')\n",
    "    plt.bar(r5, df['special_pct'], width=barWidth, label='Special', color='#c2c2f0')\n",
    "    \n",
    "    # Add labels and title\n",
    "    plt.xlabel('Binding Site ID', fontweight='bold')\n",
    "    plt.ylabel('Percentage (%)', fontweight='bold')\n",
    "    plt.title('Residue Property Distribution in Binding Sites')\n",
    "    plt.xticks([r + barWidth*2 for r in range(len(df['site_id']))], df['site_id'])\n",
    "    plt.legend()\n",
    "    plt.tight_layout()\n",
    "    plt.show()\n",
    "    \n",
    "    return df\n",
    "\n",
    "# Analyze binding site residues\n",
    "residue_analysis = analyze_binding_site_residues(pockets, protein)"
   ]
  },
  {
   "cell_type": "markdown",
   "id": "e438b830-d8a2-4b57-accd-1a246d6b8fb6",
   "metadata": {},
   "source": [
    "## Command-Line Usage\n",
    "\n",
    "ConSBind can also be used from the command line, which is useful for batch processing multiple proteins or integrating into automated workflows. Let's explore how to use the command-line interface:\n",
    "\n",
    "```bash\n",
    "# Basic usage with a single PDB file\n",
    "consbind path/to/your/protein.pdb\n",
    "\n",
    "# Specify protein type (improves prediction accuracy)\n",
    "consbind path/to/your/protein.pdb --protein_type enzyme\n",
    "\n",
    "# Process all PDB files in a directory\n",
    "consbind path/to/pdb_directory/\n",
    "\n",
    "# Customize output directory\n",
    "consbind path/to/your/protein.pdb --output_dir my_results\n",
    "\n",
    "# Adjust prediction parameters\n",
    "consbind path/to/your/protein.pdb --min_size 3 --probe_radius 1.6 --grid_spacing 0.8\n",
    "\n",
    "# Control visualization script generation\n",
    "consbind path/to/your/protein.pdb --generate_chimera False\n",
    "```\n",
    "\n",
    "### Command-Line Arguments\n",
    "\n",
    "Here's a summary of the available command-line arguments:\n",
    "\n",
    "| Argument | Description | Default |\n",
    "|----------|-------------|--------|\n",
    "| `input_path` | Input PDB file or directory containing PDB files | (Required) |\n",
    "| `--output_dir` | Output directory | results |\n",
    "| `--generate_pymol` | Generate PyMOL visualization script | True |\n",
    "| `--generate_chimera` | Generate UCSF Chimera visualization script | True |\n",
    "| `--min_size` | Minimum pocket size | 5 |\n",
    "| `--probe_radius` | Probe radius for cavity detection | 1.4 |\n",
    "| `--grid_spacing` | Grid spacing for energy calculations | 1.0 |\n",
    "| `--consensus_threshold` | Minimum consensus score for reliable pockets | 1.5 |\n",
    "| `--protein_type` | Type of protein (enzyme, transporter, receptor, unknown) | unknown |\n",
    "\n",
    "### Example: Batch Processing Multiple Proteins\n",
    "\n",
    "Here's a practical example of how to use ConSBind to batch process multiple proteins:\n",
    "\n",
    "```python\n",
    "import os\n",
    "import subprocess\n",
    "from pathlib import Path\n",
    "\n",
    "# Directory containing PDB files\n",
    "pdb_dir = \"data/multiple_proteins\"\n",
    "os.makedirs(pdb_dir, exist_ok=True)\n",
    "\n",
    "# List of interesting proteins to analyze\n",
    "proteins = [\n",
    "    (\"1HSG\", \"HIV-1 protease (enzyme)\"),\n",
    "    (\"4DFR\", \"Dihydrofolate reductase (enzyme)\"),\n",
    "    (\"3PTB\", \"Bovine trypsin (enzyme)\"),\n",
    "    (\"1STP\", \"Streptavidin (receptor)\")\n",
    "]\n",
    "\n",
    "# Download proteins if needed\n",
    "for pdb_id, description in proteins:\n",
    "    pdb_file = os.path.join(pdb_dir, f\"{pdb_id}.pdb\")\n",
    "    if not os.path.exists(pdb_file):\n",
    "        print(f\"Downloading {pdb_id} - {description}\")\n",
    "        import Bio.PDB.PDBList\n",
    "        pdblist = Bio.PDB.PDBList()\n",
    "        pdblist.retrieve_pdb_file(pdb_id, file_format=\"pdb\", pdir=pdb_dir)\n",
    "        \n",
    "        # Convert .ent to .pdb if needed\n",
    "        ent_file = Path(f\"{pdb_dir}/pdb{pdb_id.lower()}.ent\")\n",
    "        if ent_file.exists():\n",
    "            from ConSBind.input.file_handler import convert_ent_to_pdb\n",
    "            pdb_file = convert_ent_to_pdb(ent_file)\n",
    "            print(f\"Converted to PDB format: {pdb_file}\")\n",
    "\n",
    "# Run ConSBind on all proteins\n",
    "output_dir = \"results/multiple_comparison\"\n",
    "cmd = f\"consbind {pdb_dir} --output_dir {output_dir} --generate_pymol --generate_chimera\"\n",
    "print(f\"Running: {cmd}\")\n",
    "# In a real script, you would use:\n",
    "# subprocess.run(cmd, shell=True, check=True)\n",
    "print(\"This would process all PDB files in the directory with both PyMOL and Chimera visualization scripts\")\n",
    "```\n",
    "\n",
    "## Visualizing Results with PyMOL and Chimera\n",
    "\n",
    "ConSBind generates visualization scripts for both PyMOL and UCSF Chimera. Here's how to use them:\n",
    "\n",
    "### PyMOL Visualization\n",
    "\n",
    "The PyMOL script colors the predicted binding sites and displays them as surfaces:\n",
    "\n",
    "```bash\n",
    "# Open PyMOL and load the script\n",
    "pymol results/4dfr/4dfr_pymol.pml\n",
    "```\n",
    "\n",
    "The script automatically:\n",
    "1. Loads the protein structure\n",
    "2. Creates a surface representation\n",
    "3. Colors each binding site with a different color\n",
    "4. Labels the binding sites\n",
    "5. Sets up a clean visualization with transparent surfaces\n",
    "\n",
    "### UCSF Chimera Visualization\n",
    "\n",
    "The Chimera script provides an alternative visualization:\n",
    "\n",
    "```bash\n",
    "# Open Chimera with the PDB file and run the script\n",
    "chimera results/4dfr/4dfr_predicted.pdb results/4dfr/4dfr_chimera.cmd\n",
    "```\n",
    "\n",
    "The script:\n",
    "1. Loads the protein structure\n",
    "2. Creates a surface representation\n",
    "3. Colors binding sites with distinct colors\n",
    "4. Labels residues in each binding site\n",
    "5. Sets up camera angles for optimal viewing\n",
    "\n",
    "### Interpreting Visualization Results\n",
    "\n",
    "When examining the visualizations, look for:\n",
    "\n",
    "1. **Pocket location**: Are the binding sites in biologically relevant locations?\n",
    "2. **Pocket size**: Larger pockets often indicate more significant binding sites\n",
    "3. **Residue composition**: Check if known catalytic or binding residues are included\n",
    "4. **Surface properties**: Examine the electrostatic and hydrophobic properties of the pocket\n",
    "\n",
    "## Conclusion\n",
    "\n",
    "In this enhanced tutorial, we've demonstrated how to:\n",
    "\n",
    "1. Load protein structures using ConSBind\n",
    "2. Predict binding sites using consensus approaches\n",
    "3. Analyze and visualize binding site properties\n",
    "4. Save prediction results for external visualization\n",
    "5. Compare properties across different binding sites\n",
    "6. Set up a framework for multi-protein analysis\n",
    "7. Use ConSBind from the command line\n",
    "8. Process multiple proteins in batch mode\n",
    "9. Visualize results with PyMOL and UCSF Chimera\n",
    "10. Troubleshoot common issues\n",
    "\n",
    "ConSBind provides a framework for binding site prediction that combines geometric and energy-based approaches, to achieve more reliable predictions than with these single methods alone. \n",
    "These techniques can be applied to your own protein structures to identify potential binding sites\n",
    "for drug discovery, protein engineering, or functional analysis."
   ]
  }
 ],
 "metadata": {
  "kernelspec": {
   "display_name": "Python 3 (ipykernel)",
   "language": "python",
   "name": "python3"
  },
  "language_info": {
   "codemirror_mode": {
    "name": "ipython",
    "version": 3
   },
   "file_extension": ".py",
   "mimetype": "text/x-python",
   "name": "python",
   "nbconvert_exporter": "python",
   "pygments_lexer": "ipython3",
   "version": "3.12.2"
  }
 },
 "nbformat": 4,
 "nbformat_minor": 5
}
